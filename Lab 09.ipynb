{
 "metadata": {
  "language_info": {
   "codemirror_mode": {
    "name": "ipython",
    "version": 3
   },
   "file_extension": ".py",
   "mimetype": "text/x-python",
   "name": "python",
   "nbconvert_exporter": "python",
   "pygments_lexer": "ipython3",
   "version": "3.8.5"
  },
  "orig_nbformat": 2,
  "kernelspec": {
   "name": "python385jvsc74a57bd0b3ba2566441a7c06988d0923437866b63cedc61552a5af99d1f4fb67d367b25f",
   "display_name": "Python 3.8.5 64-bit ('base': conda)"
  }
 },
 "nbformat": 4,
 "nbformat_minor": 2,
 "cells": [
  {
   "source": [
    "# Lab 09 - High Performance Computing\n",
    "#### Module Imports"
   ],
   "cell_type": "markdown",
   "metadata": {}
  },
  {
   "cell_type": "code",
   "execution_count": 6,
   "metadata": {},
   "outputs": [],
   "source": [
    "import multiprocessing as mproc, numpy, time"
   ]
  },
  {
   "source": [
    "## Exercise 01 - Number of Processors"
   ],
   "cell_type": "markdown",
   "metadata": {}
  },
  {
   "cell_type": "code",
   "execution_count": 2,
   "metadata": {},
   "outputs": [
    {
     "output_type": "stream",
     "name": "stdout",
     "text": [
      "Number of processors: 8\n"
     ]
    }
   ],
   "source": [
    "print(\"Number of processors:\", mproc.cpu_count())"
   ]
  },
  {
   "source": [
    "## Exercise 02 - Array Normalization"
   ],
   "cell_type": "markdown",
   "metadata": {}
  },
  {
   "cell_type": "code",
   "execution_count": 3,
   "metadata": {},
   "outputs": [],
   "source": [
    "def create_list(rows, cols, min, max):\n",
    "    return numpy.random.randint(min, max, size=[rows, cols])"
   ]
  },
  {
   "cell_type": "code",
   "execution_count": 12,
   "metadata": {},
   "outputs": [],
   "source": [
    "def normalize_by_row(lst):\n",
    "    ROWS, COLS = lst.shape\n",
    "    norm_list = numpy.zeros((ROWS, COLS))\n",
    "\n",
    "    for row in range(ROWS):\n",
    "        row_slice = lst[row][:]\n",
    "        ROW_MIN = min(row_slice)\n",
    "        ROW_MAX = max(row_slice)\n",
    "\n",
    "        for col in range(COLS):\n",
    "            norm_list[row][col] = (row_slice[col] - ROW_MIN) / (ROW_MAX - ROW_MIN)\n",
    "\n",
    "    return norm_list"
   ]
  },
  {
   "cell_type": "code",
   "execution_count": 13,
   "metadata": {},
   "outputs": [
    {
     "output_type": "stream",
     "name": "stdout",
     "text": [
      "Sequential normalization by row for size 100 took 0.009999275207519531 seconds\n",
      "Sequential normalization by row for size 500 took 0.23001551628112793 seconds\n",
      "Sequential normalization by row for size 1000 took 0.8617680072784424 seconds\n",
      "Sequential normalization by row for size 2000 took 3.4399664402008057 seconds\n",
      "Sequential normalization by row for size 3000 took 7.78710675239563 seconds\n"
     ]
    }
   ],
   "source": [
    "MIN = 0\n",
    "MAX = 10\n",
    "SIZES = [ 100, 500, 1000, 2000, 3000 ]\n",
    "\n",
    "for size in SIZES:\n",
    "    START = time.time()\n",
    "    lst = create_list(size, size, MIN, MAX)\n",
    "    norm_list = normalize_by_row(lst)\n",
    "    print(\"Sequential normalization by row for size\", size, \"took\", time.time() - START, \"seconds\")"
   ]
  },
  {
   "cell_type": "code",
   "execution_count": null,
   "metadata": {},
   "outputs": [],
   "source": []
  }
 ]
}