{
 "metadata": {
  "language_info": {
   "codemirror_mode": {
    "name": "ipython",
    "version": 3
   },
   "file_extension": ".py",
   "mimetype": "text/x-python",
   "name": "python",
   "nbconvert_exporter": "python",
   "pygments_lexer": "ipython3",
   "version": "3.8.5"
  },
  "orig_nbformat": 2,
  "kernelspec": {
   "name": "python385jvsc74a57bd0b3ba2566441a7c06988d0923437866b63cedc61552a5af99d1f4fb67d367b25f",
   "display_name": "Python 3.8.5 64-bit ('base': conda)"
  }
 },
 "nbformat": 4,
 "nbformat_minor": 2,
 "cells": [
  {
   "source": [
    "# Lab 09 - High Performance Computing\n",
    "#### Module Imports"
   ],
   "cell_type": "markdown",
   "metadata": {}
  },
  {
   "cell_type": "code",
   "execution_count": 9,
   "metadata": {},
   "outputs": [],
   "source": [
    "import multiprocessing as mproc, numba, numpy, time\n",
    "from numba import njit"
   ]
  },
  {
   "source": [
    "## Exercise 01 - Number of Processors"
   ],
   "cell_type": "markdown",
   "metadata": {}
  },
  {
   "cell_type": "code",
   "execution_count": 2,
   "metadata": {},
   "outputs": [
    {
     "output_type": "stream",
     "name": "stdout",
     "text": [
      "Number of processors: 8\n"
     ]
    }
   ],
   "source": [
    "print(\"Number of processors:\", mproc.cpu_count())"
   ]
  },
  {
   "source": [
    "## Exercise 02 - Array Normalization"
   ],
   "cell_type": "markdown",
   "metadata": {}
  },
  {
   "cell_type": "code",
   "execution_count": 3,
   "metadata": {},
   "outputs": [],
   "source": [
    "def create_list(rows, cols, min, max):\n",
    "    return numpy.random.randint(min, max, size=[rows, cols])"
   ]
  },
  {
   "cell_type": "code",
   "execution_count": 4,
   "metadata": {},
   "outputs": [],
   "source": [
    "def normalize_row(row):\n",
    "    COLS = len(row)\n",
    "    norm_row = numpy.zeros(shape=(COLS))\n",
    "    ROW_MIN = min(row)\n",
    "    ROW_MAX = max(row)\n",
    "\n",
    "    for col in range(COLS):\n",
    "        norm_row[col] = (row[col] - ROW_MIN) / (ROW_MAX - ROW_MIN)\n",
    "\n",
    "    return norm_row"
   ]
  },
  {
   "cell_type": "code",
   "execution_count": 5,
   "metadata": {},
   "outputs": [],
   "source": [
    "def normalize_by_row(lst):\n",
    "    ROWS, COLS = lst.shape\n",
    "    norm_list = numpy.zeros((ROWS, COLS))\n",
    "\n",
    "    for row in range(ROWS):\n",
    "        norm_list[row] = normalize_row(lst[row][:])\n",
    "\n",
    "    return norm_list"
   ]
  },
  {
   "cell_type": "code",
   "execution_count": 6,
   "metadata": {},
   "outputs": [
    {
     "output_type": "stream",
     "name": "stdout",
     "text": [
      "Sequential normalization by row for size 100 took 0.005998849868774414 seconds\n",
      "Sequential normalization by row for size 500 took 0.13302087783813477 seconds\n",
      "Sequential normalization by row for size 1000 took 0.5031018257141113 seconds\n",
      "Sequential normalization by row for size 2000 took 2.0174059867858887 seconds\n",
      "Sequential normalization by row for size 3000 took 4.352947950363159 seconds\n"
     ]
    }
   ],
   "source": [
    "MIN = 0\n",
    "MAX = 10\n",
    "SIZES = [ 100, 500, 1000, 2000, 3000 ]\n",
    "\n",
    "for size in SIZES:\n",
    "    lst = create_list(size, size, MIN, MAX)\n",
    "    START = time.time()\n",
    "    norm_list = normalize_by_row(lst)\n",
    "    print(\"Sequential normalization by row for size\", size, \"took\", time.time() - START, \"seconds\")"
   ]
  },
  {
   "source": [
    "## Exercise 03 - Parallelization Using pool.apply\n",
    "#### Constant Definitions"
   ],
   "cell_type": "markdown",
   "metadata": {}
  },
  {
   "cell_type": "code",
   "execution_count": 7,
   "metadata": {},
   "outputs": [],
   "source": [
    "CPU_COUNT = mproc.cpu_count()"
   ]
  },
  {
   "source": [
    "pool = mproc.Pool(CPU_COUNT)\n",
    "\n",
    "for size in SIZES:\n",
    "    START = time.time()\n",
    "    results = [pool.apply(normalize_row, args=(row,)) for row in lst]\n",
    "    print(\"Parallel normalization by row for size\", size, \"took\", time.time() - START, \"seconds\")\n",
    "\n",
    "pool.close()"
   ],
   "cell_type": "markdown",
   "metadata": {}
  },
  {
   "source": [
    "## Exercise 04 - Parallelization Using pool.apply async"
   ],
   "cell_type": "markdown",
   "metadata": {}
  },
  {
   "cell_type": "code",
   "execution_count": 8,
   "metadata": {},
   "outputs": [
    {
     "output_type": "stream",
     "name": "stdout",
     "text": [
      "Async parallel normalization by row for size 100 took 0.0409998893737793 seconds\n",
      "Async parallel normalization by row for size 500 took 0.07799983024597168 seconds\n",
      "Async parallel normalization by row for size 1000 took 0.043001651763916016 seconds\n",
      "Async parallel normalization by row for size 2000 took 0.059998273849487305 seconds\n",
      "Async parallel normalization by row for size 3000 took 0.024000167846679688 seconds\n"
     ]
    }
   ],
   "source": [
    "pool = mproc.Pool(CPU_COUNT)\n",
    "\n",
    "for size in SIZES:\n",
    "    lst = create_list(size, size, MIN, MAX)\n",
    "    START = time.time()\n",
    "    tasks = [pool.apply_async(normalize_row, args=(row,)) for row in lst]\n",
    "    print(\"Async parallel normalization by row for size\", size, \"took\", time.time() - START, \"seconds\")\n",
    "\n",
    "pool.close()"
   ]
  },
  {
   "source": [
    "## Exercise 05 - Numba and JIT"
   ],
   "cell_type": "markdown",
   "metadata": {}
  },
  {
   "cell_type": "code",
   "execution_count": 17,
   "metadata": {},
   "outputs": [],
   "source": [
    "@njit(parallel=True)\n",
    "def jit_trace(lst, rows, cols):\n",
    "    trace = 0\n",
    "\n",
    "    for row in range(rows):\n",
    "        for col in range(cols):\n",
    "            trace += numpy.tanh(lst[row][col])\n",
    "\n",
    "    return trace"
   ]
  },
  {
   "cell_type": "code",
   "execution_count": 18,
   "metadata": {},
   "outputs": [
    {
     "output_type": "stream",
     "name": "stderr",
     "text": [
      "C:\\ProgramData\\Anaconda3\\lib\\site-packages\\numba\\core\\typed_passes.py:313: NumbaPerformanceWarning: \u001b[1m\n",
      "The keyword argument 'parallel=True' was specified but no transformation for parallel execution was possible.\n",
      "\n",
      "To find out why, try turning on parallel diagnostics, see https://numba.pydata.org/numba-doc/latest/user/parallel.html#diagnostics for help.\n",
      "\u001b[1m\n",
      "File \"<ipython-input-17-6ea592bbd34b>\", line 2:\u001b[0m\n",
      "\u001b[1m@njit(parallel=True)\n",
      "\u001b[1mdef jit_trace(lst, rows, cols):\n",
      "\u001b[0m\u001b[1m^\u001b[0m\u001b[0m\n",
      "\u001b[0m\n",
      "  warnings.warn(errors.NumbaPerformanceWarning(msg,\n",
      "JITted parallel normalization by row for size 100 took 0.2651340961456299 seconds\n",
      "JITted parallel normalization by row for size 500 took 0.0019996166229248047 seconds\n",
      "JITted parallel normalization by row for size 1000 took 0.009998559951782227 seconds\n",
      "JITted parallel normalization by row for size 2000 took 0.045000553131103516 seconds\n",
      "JITted parallel normalization by row for size 3000 took 0.08295917510986328 seconds\n"
     ]
    }
   ],
   "source": [
    "for size in SIZES:\n",
    "    lst = numpy.arange(size * size).reshape(size, size)\n",
    "    START = time.time()\n",
    "    jit_trace(lst, size, size)\n",
    "    print(\"JITted parallel tracing for size\", size, \"took\", time.time() - START, \"seconds\")"
   ]
  },
  {
   "source": [
    "## Exercise 06 - Normalization Using JIT"
   ],
   "cell_type": "markdown",
   "metadata": {}
  },
  {
   "cell_type": "code",
   "execution_count": 25,
   "metadata": {},
   "outputs": [],
   "source": [
    "@njit(parallel=True)\n",
    "def normalize_row_jit(row):\n",
    "    COLS = len(row)\n",
    "    norm_row = numpy.zeros(shape=(COLS))\n",
    "    ROW_MIN = min(row)\n",
    "    ROW_MAX = max(row)\n",
    "\n",
    "    for col in numba.prange(COLS):\n",
    "        norm_row[col] = (row[col] - ROW_MIN) / (ROW_MAX - ROW_MIN)\n",
    "\n",
    "    return norm_row"
   ]
  },
  {
   "cell_type": "code",
   "execution_count": 27,
   "metadata": {},
   "outputs": [],
   "source": [
    "@njit(parallel=True)\n",
    "def normalize_by_row_jit(lst):\n",
    "    ROWS, COLS = lst.shape\n",
    "    norm_list = numpy.zeros((ROWS, COLS))\n",
    "\n",
    "    for row in numba.prange(ROWS):\n",
    "        norm_list[row] = normalize_row_jit(lst[row][:])\n",
    "\n",
    "    return norm_list"
   ]
  },
  {
   "cell_type": "code",
   "execution_count": 28,
   "metadata": {},
   "outputs": [
    {
     "output_type": "error",
     "ename": "TypingError",
     "evalue": "Failed in nopython mode pipeline (step: nopython frontend)\n\u001b[1mNameError: name 'numba' is not defined\u001b[0m",
     "traceback": [
      "\u001b[1;31m---------------------------------------------------------------------------\u001b[0m",
      "\u001b[1;31mTypingError\u001b[0m                               Traceback (most recent call last)",
      "\u001b[1;32m<ipython-input-28-2b78bd4cc9fd>\u001b[0m in \u001b[0;36m<module>\u001b[1;34m\u001b[0m\n\u001b[0;32m      2\u001b[0m     \u001b[0mlst\u001b[0m \u001b[1;33m=\u001b[0m \u001b[0mcreate_list\u001b[0m\u001b[1;33m(\u001b[0m\u001b[0msize\u001b[0m\u001b[1;33m,\u001b[0m \u001b[0msize\u001b[0m\u001b[1;33m,\u001b[0m \u001b[0mMIN\u001b[0m\u001b[1;33m,\u001b[0m \u001b[0mMAX\u001b[0m\u001b[1;33m)\u001b[0m\u001b[1;33m\u001b[0m\u001b[1;33m\u001b[0m\u001b[0m\n\u001b[0;32m      3\u001b[0m     \u001b[0mSTART\u001b[0m \u001b[1;33m=\u001b[0m \u001b[0mtime\u001b[0m\u001b[1;33m.\u001b[0m\u001b[0mtime\u001b[0m\u001b[1;33m(\u001b[0m\u001b[1;33m)\u001b[0m\u001b[1;33m\u001b[0m\u001b[1;33m\u001b[0m\u001b[0m\n\u001b[1;32m----> 4\u001b[1;33m     \u001b[0mnormalize_by_row_jit\u001b[0m\u001b[1;33m(\u001b[0m\u001b[0mlst\u001b[0m\u001b[1;33m)\u001b[0m\u001b[1;33m\u001b[0m\u001b[1;33m\u001b[0m\u001b[0m\n\u001b[0m\u001b[0;32m      5\u001b[0m     \u001b[0mprint\u001b[0m\u001b[1;33m(\u001b[0m\u001b[1;34m\"JIT parallel normalization by row for size\"\u001b[0m\u001b[1;33m,\u001b[0m \u001b[0msize\u001b[0m\u001b[1;33m,\u001b[0m \u001b[1;34m\"took\"\u001b[0m\u001b[1;33m,\u001b[0m \u001b[0mtime\u001b[0m\u001b[1;33m.\u001b[0m\u001b[0mtime\u001b[0m\u001b[1;33m(\u001b[0m\u001b[1;33m)\u001b[0m \u001b[1;33m-\u001b[0m \u001b[0mSTART\u001b[0m\u001b[1;33m,\u001b[0m \u001b[1;34m\"seconds\"\u001b[0m\u001b[1;33m)\u001b[0m\u001b[1;33m\u001b[0m\u001b[1;33m\u001b[0m\u001b[0m\n",
      "\u001b[1;32mC:\\ProgramData\\Anaconda3\\lib\\site-packages\\numba\\core\\dispatcher.py\u001b[0m in \u001b[0;36m_compile_for_args\u001b[1;34m(self, *args, **kws)\u001b[0m\n\u001b[0;32m    413\u001b[0m                 \u001b[0me\u001b[0m\u001b[1;33m.\u001b[0m\u001b[0mpatch_message\u001b[0m\u001b[1;33m(\u001b[0m\u001b[0mmsg\u001b[0m\u001b[1;33m)\u001b[0m\u001b[1;33m\u001b[0m\u001b[1;33m\u001b[0m\u001b[0m\n\u001b[0;32m    414\u001b[0m \u001b[1;33m\u001b[0m\u001b[0m\n\u001b[1;32m--> 415\u001b[1;33m             \u001b[0merror_rewrite\u001b[0m\u001b[1;33m(\u001b[0m\u001b[0me\u001b[0m\u001b[1;33m,\u001b[0m \u001b[1;34m'typing'\u001b[0m\u001b[1;33m)\u001b[0m\u001b[1;33m\u001b[0m\u001b[1;33m\u001b[0m\u001b[0m\n\u001b[0m\u001b[0;32m    416\u001b[0m         \u001b[1;32mexcept\u001b[0m \u001b[0merrors\u001b[0m\u001b[1;33m.\u001b[0m\u001b[0mUnsupportedError\u001b[0m \u001b[1;32mas\u001b[0m \u001b[0me\u001b[0m\u001b[1;33m:\u001b[0m\u001b[1;33m\u001b[0m\u001b[1;33m\u001b[0m\u001b[0m\n\u001b[0;32m    417\u001b[0m             \u001b[1;31m# Something unsupported is present in the user code, add help info\u001b[0m\u001b[1;33m\u001b[0m\u001b[1;33m\u001b[0m\u001b[1;33m\u001b[0m\u001b[0m\n",
      "\u001b[1;32mC:\\ProgramData\\Anaconda3\\lib\\site-packages\\numba\\core\\dispatcher.py\u001b[0m in \u001b[0;36merror_rewrite\u001b[1;34m(e, issue_type)\u001b[0m\n\u001b[0;32m    356\u001b[0m                 \u001b[1;32mraise\u001b[0m \u001b[0me\u001b[0m\u001b[1;33m\u001b[0m\u001b[1;33m\u001b[0m\u001b[0m\n\u001b[0;32m    357\u001b[0m             \u001b[1;32melse\u001b[0m\u001b[1;33m:\u001b[0m\u001b[1;33m\u001b[0m\u001b[1;33m\u001b[0m\u001b[0m\n\u001b[1;32m--> 358\u001b[1;33m                 \u001b[0mreraise\u001b[0m\u001b[1;33m(\u001b[0m\u001b[0mtype\u001b[0m\u001b[1;33m(\u001b[0m\u001b[0me\u001b[0m\u001b[1;33m)\u001b[0m\u001b[1;33m,\u001b[0m \u001b[0me\u001b[0m\u001b[1;33m,\u001b[0m \u001b[1;32mNone\u001b[0m\u001b[1;33m)\u001b[0m\u001b[1;33m\u001b[0m\u001b[1;33m\u001b[0m\u001b[0m\n\u001b[0m\u001b[0;32m    359\u001b[0m \u001b[1;33m\u001b[0m\u001b[0m\n\u001b[0;32m    360\u001b[0m         \u001b[0margtypes\u001b[0m \u001b[1;33m=\u001b[0m \u001b[1;33m[\u001b[0m\u001b[1;33m]\u001b[0m\u001b[1;33m\u001b[0m\u001b[1;33m\u001b[0m\u001b[0m\n",
      "\u001b[1;32mC:\\ProgramData\\Anaconda3\\lib\\site-packages\\numba\\core\\utils.py\u001b[0m in \u001b[0;36mreraise\u001b[1;34m(tp, value, tb)\u001b[0m\n\u001b[0;32m     78\u001b[0m         \u001b[0mvalue\u001b[0m \u001b[1;33m=\u001b[0m \u001b[0mtp\u001b[0m\u001b[1;33m(\u001b[0m\u001b[1;33m)\u001b[0m\u001b[1;33m\u001b[0m\u001b[1;33m\u001b[0m\u001b[0m\n\u001b[0;32m     79\u001b[0m     \u001b[1;32mif\u001b[0m \u001b[0mvalue\u001b[0m\u001b[1;33m.\u001b[0m\u001b[0m__traceback__\u001b[0m \u001b[1;32mis\u001b[0m \u001b[1;32mnot\u001b[0m \u001b[0mtb\u001b[0m\u001b[1;33m:\u001b[0m\u001b[1;33m\u001b[0m\u001b[1;33m\u001b[0m\u001b[0m\n\u001b[1;32m---> 80\u001b[1;33m         \u001b[1;32mraise\u001b[0m \u001b[0mvalue\u001b[0m\u001b[1;33m.\u001b[0m\u001b[0mwith_traceback\u001b[0m\u001b[1;33m(\u001b[0m\u001b[0mtb\u001b[0m\u001b[1;33m)\u001b[0m\u001b[1;33m\u001b[0m\u001b[1;33m\u001b[0m\u001b[0m\n\u001b[0m\u001b[0;32m     81\u001b[0m     \u001b[1;32mraise\u001b[0m \u001b[0mvalue\u001b[0m\u001b[1;33m\u001b[0m\u001b[1;33m\u001b[0m\u001b[0m\n\u001b[0;32m     82\u001b[0m \u001b[1;33m\u001b[0m\u001b[0m\n",
      "\u001b[1;31mTypingError\u001b[0m: Failed in nopython mode pipeline (step: nopython frontend)\n\u001b[1mNameError: name 'numba' is not defined\u001b[0m"
     ]
    }
   ],
   "source": [
    "for size in SIZES:\n",
    "    lst = create_list(size, size, MIN, MAX)\n",
    "    START = time.time()\n",
    "    normalize_by_row_jit(lst)\n",
    "    print(\"JIT parallel normalization by row for size\", size, \"took\", time.time() - START, \"seconds\")"
   ]
  },
  {
   "cell_type": "code",
   "execution_count": null,
   "metadata": {},
   "outputs": [],
   "source": []
  }
 ]
}